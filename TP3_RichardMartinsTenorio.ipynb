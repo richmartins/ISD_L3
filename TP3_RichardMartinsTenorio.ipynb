{
 "cells": [
  {
   "cell_type": "markdown",
   "id": "fresh-catch",
   "metadata": {},
   "source": [
    "# Analyse des données socio-économiques"
   ]
  },
  {
   "cell_type": "code",
   "execution_count": 1,
   "id": "auburn-maryland",
   "metadata": {},
   "outputs": [],
   "source": [
    "# 1)\n",
    "from gapminder import gapminder as gp\n",
    "import pandas as pd\n",
    "from matplotlib import pyplot as plt "
   ]
  },
  {
   "cell_type": "code",
   "execution_count": 17,
   "id": "characteristic-french",
   "metadata": {},
   "outputs": [
    {
     "data": {
      "text/plain": [
       "array([[<AxesSubplot:title={'center':'year'}>,\n",
       "        <AxesSubplot:title={'center':'lifeExp'}>],\n",
       "       [<AxesSubplot:title={'center':'pop'}>,\n",
       "        <AxesSubplot:title={'center':'gdpPercap'}>]], dtype=object)"
      ]
     },
     "execution_count": 17,
     "metadata": {},
     "output_type": "execute_result"
    },
    {
     "data": {
      "image/png": "[encoded data removed]",
      "text/plain": [
       "<Figure size 432x288 with 4 Axes>"
      ]
     },
     "metadata": {
      "needs_background": "light"
     },
     "output_type": "display_data"
    }
   ],
   "source": [
    "#gp.head() => displays first entries\n",
    "#gp.describe() => display description of columns \n",
    "#gp.info() => display information about the database\n",
    "\n",
    "# 2)\n",
    "pd.DataFrame.hist(gapminder)"
   ]
  },
  {
   "cell_type": "markdown",
   "id": "canadian-contrast",
   "metadata": {},
   "source": [
    "## Quesiton 1\n",
    "\n",
    "Nous pouvons conclure que, nous avons pour chaqus dane pays la base de donnée `gapminder` quatre donnée principal :\n",
    "\n",
    "* Année\n",
    "* la population\n",
    "* l'espérance de vie\n",
    "* Le produit intérieur brute (PiB) ou (GDP en anglais)\n"
   ]
  },
  {
   "cell_type": "code",
   "execution_count": 26,
   "id": "democratic-flash",
   "metadata": {},
   "outputs": [
    {
     "data": {
      "text/plain": [
       "array(['Asia', 'Europe', 'Africa', 'Americas', 'Oceania'], dtype=object)"
      ]
     },
     "execution_count": 26,
     "metadata": {},
     "output_type": "execute_result"
    }
   ],
   "source": [
    "# 4)\n",
    "gapminder['continent'].unique()"
   ]
  },
  {
   "cell_type": "code",
   "execution_count": 25,
   "id": "surface-dividend",
   "metadata": {},
   "outputs": [
    {
     "data": {
      "text/plain": [
       "array(['Afghanistan', 'Albania', 'Algeria', 'Angola', 'Argentina',\n",
       "       'Australia', 'Austria', 'Bahrain', 'Bangladesh', 'Belgium',\n",
       "       'Benin', 'Bolivia', 'Bosnia and Herzegovina', 'Botswana', 'Brazil',\n",
       "       'Bulgaria', 'Burkina Faso', 'Burundi', 'Cambodia', 'Cameroon',\n",
       "       'Canada', 'Central African Republic', 'Chad', 'Chile', 'China',\n",
       "       'Colombia', 'Comoros', 'Congo, Dem. Rep.', 'Congo, Rep.',\n",
       "       'Costa Rica', \"Cote d'Ivoire\", 'Croatia', 'Cuba', 'Czech Republic',\n",
       "       'Denmark', 'Djibouti', 'Dominican Republic', 'Ecuador', 'Egypt',\n",
       "       'El Salvador', 'Equatorial Guinea', 'Eritrea', 'Ethiopia',\n",
       "       'Finland', 'France', 'Gabon', 'Gambia', 'Germany', 'Ghana',\n",
       "       'Greece', 'Guatemala', 'Guinea', 'Guinea-Bissau', 'Haiti',\n",
       "       'Honduras', 'Hong Kong, China', 'Hungary', 'Iceland', 'India',\n",
       "       'Indonesia', 'Iran', 'Iraq', 'Ireland', 'Israel', 'Italy',\n",
       "       'Jamaica', 'Japan', 'Jordan', 'Kenya', 'Korea, Dem. Rep.',\n",
       "       'Korea, Rep.', 'Kuwait', 'Lebanon', 'Lesotho', 'Liberia', 'Libya',\n",
       "       'Madagascar', 'Malawi', 'Malaysia', 'Mali', 'Mauritania',\n",
       "       'Mauritius', 'Mexico', 'Mongolia', 'Montenegro', 'Morocco',\n",
       "       'Mozambique', 'Myanmar', 'Namibia', 'Nepal', 'Netherlands',\n",
       "       'New Zealand', 'Nicaragua', 'Niger', 'Nigeria', 'Norway', 'Oman',\n",
       "       'Pakistan', 'Panama', 'Paraguay', 'Peru', 'Philippines', 'Poland',\n",
       "       'Portugal', 'Puerto Rico', 'Reunion', 'Romania', 'Rwanda',\n",
       "       'Sao Tome and Principe', 'Saudi Arabia', 'Senegal', 'Serbia',\n",
       "       'Sierra Leone', 'Singapore', 'Slovak Republic', 'Slovenia',\n",
       "       'Somalia', 'South Africa', 'Spain', 'Sri Lanka', 'Sudan',\n",
       "       'Swaziland', 'Sweden', 'Switzerland', 'Syria', 'Taiwan',\n",
       "       'Tanzania', 'Thailand', 'Togo', 'Trinidad and Tobago', 'Tunisia',\n",
       "       'Turkey', 'Uganda', 'United Kingdom', 'United States', 'Uruguay',\n",
       "       'Venezuela', 'Vietnam', 'West Bank and Gaza', 'Yemen, Rep.',\n",
       "       'Zambia', 'Zimbabwe'], dtype=object)"
      ]
     },
     "execution_count": 25,
     "metadata": {},
     "output_type": "execute_result"
    }
   ],
   "source": [
    "gapminder['country'].unique()"
   ]
  },
  {
   "cell_type": "code",
   "execution_count": 27,
   "id": "departmental-shoot",
   "metadata": {},
   "outputs": [
    {
     "data": {
      "text/plain": [
       "array([1952, 1957, 1962, 1967, 1972, 1977, 1982, 1987, 1992, 1997, 2002,\n",
       "       2007])"
      ]
     },
     "execution_count": 27,
     "metadata": {},
     "output_type": "execute_result"
    }
   ],
   "source": [
    "gapminder['year'].unique()"
   ]
  },
  {
   "cell_type": "code",
   "execution_count": 53,
   "id": "irish-islam",
   "metadata": {},
   "outputs": [
    {
     "data": {
      "text/plain": [
       "year\n",
       "1952    49.057620\n",
       "2007    67.007423\n",
       "Name: lifeExp, dtype: float64"
      ]
     },
     "execution_count": 53,
     "metadata": {},
     "output_type": "execute_result"
    }
   ],
   "source": [
    "# 5)\n",
    "df = pd.DataFrame(gp).groupby(['year'])[\"lifeExp\"].mean().iloc[[0, -1]]\n",
    "df\n"
   ]
  },
  {
   "cell_type": "code",
   "execution_count": 88,
   "id": "lasting-inquiry",
   "metadata": {
    "scrolled": true
   },
   "outputs": [
    {
     "name": "stdout",
     "output_type": "stream",
     "text": [
      "year  continent\n",
      "1952  Africa       39.135500\n",
      "      Americas     53.279840\n",
      "      Asia         46.314394\n",
      "      Europe       64.408500\n",
      "      Oceania      69.255000\n",
      "Name: lifeExp, dtype: float64\n",
      "year  continent\n",
      "2007  Africa       54.806038\n",
      "      Americas     73.608120\n",
      "      Asia         70.728485\n",
      "      Europe       77.648600\n",
      "      Oceania      80.719500\n",
      "Name: lifeExp, dtype: float64\n"
     ]
    }
   ],
   "source": [
    "# 6)\n",
    "df = pd.DataFrame(gp).groupby(['year', 'continent'])[\"lifeExp\"].mean()\n",
    "print(df.iloc[:5])\n",
    "print(df.iloc[-5:])"
   ]
  },
  {
   "cell_type": "markdown",
   "id": "temporal-oriental",
   "metadata": {},
   "source": [
    "## Question 2\n",
    "\n",
    "Le continent qui a eu la plus grande progression est : l'**Océanie**"
   ]
  },
  {
   "cell_type": "code",
   "execution_count": 12,
   "id": "thermal-sandwich",
   "metadata": {},
   "outputs": [
    {
     "data": {
      "text/plain": [
       "<AxesSubplot:xlabel='year'>"
      ]
     },
     "execution_count": 12,
     "metadata": {},
     "output_type": "execute_result"
    },
    {
     "data": {
      "image/png": "[encoded data removed]",
      "text/plain": [
       "<Figure size 432x288 with 1 Axes>"
      ]
     },
     "metadata": {
      "needs_background": "light"
     },
     "output_type": "display_data"
    }
   ],
   "source": [
    "# 7)\n",
    "df = gp.groupby(['continent','year']).mean('pop').unstack('continent')[['pop']]\n",
    "df.plot()"
   ]
  },
  {
   "cell_type": "markdown",
   "id": "certain-costume",
   "metadata": {},
   "source": [
    "## Question 3\n",
    "\n",
    "On peut en conclure que :\n",
    "\n",
    "* La population de l'Océanie et l'Europe a peu augmenté\n",
    "* La population d'Afrique et d'Amérique augmente légèrement comparé à l'Asie\n",
    "* La population d'Asie a beaucoup augmenté"
   ]
  },
  {
   "cell_type": "code",
   "execution_count": 38,
   "id": "eight-exhibition",
   "metadata": {},
   "outputs": [
    {
     "data": {
      "text/plain": [
       "<pandas.core.groupby.generic.DataFrameGroupBy object at 0x7f9b0cbb32b0>"
      ]
     },
     "execution_count": 38,
     "metadata": {},
     "output_type": "execute_result"
    }
   ],
   "source": [
    "# 8)\n",
    "#pd.DataFrame(gp).groupby(['year'])[\"lifeExp\"].mean().iloc[[0, -1]]\n",
    "\n",
    "#df_lifeExp = gp.groupby('continent')[['lifeExp']].iloc[[0, -1]]\n",
    "\n",
    "df_pib = gp[['gdpPercap','continent','year']].groupby('continent')[['year']]\n",
    "\n",
    "df_pib\n",
    "#plt.scatter(df_pib, df_lifeExp)\n"
   ]
  },
  {
   "cell_type": "code",
   "execution_count": null,
   "id": "burning-speaking",
   "metadata": {},
   "outputs": [],
   "source": []
  }
 ],
 "metadata": {
  "kernelspec": {
   "display_name": "isd",
   "language": "python",
   "name": "isd"
  },
  "language_info": {
   "codemirror_mode": {
    "name": "ipython",
    "version": 3
   },
   "file_extension": ".py",
   "mimetype": "text/x-python",
   "name": "python",
   "nbconvert_exporter": "python",
   "pygments_lexer": "ipython3",
   "version": "3.9.1"
  }
 },
 "nbformat": 4,
 "nbformat_minor": 5
}
